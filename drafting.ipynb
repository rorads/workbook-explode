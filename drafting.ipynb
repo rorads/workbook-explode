{
 "cells": [
  {
   "cell_type": "code",
   "execution_count": 1,
   "metadata": {
    "collapsed": true
   },
   "outputs": [],
   "source": [
    "import pandas as pd\n",
    "import re\n",
    "\n",
    "workbook_file = pd.ExcelFile(\"data/constant-multiple-simple.xlsx\")"
   ]
  },
  {
   "cell_type": "code",
   "execution_count": 6,
   "metadata": {
    "collapsed": false
   },
   "outputs": [
    {
     "data": {
      "text/html": [
       "<div>\n",
       "<table border=\"1\" class=\"dataframe\">\n",
       "  <thead>\n",
       "    <tr style=\"text-align: right;\">\n",
       "      <th></th>\n",
       "      <th>org/id</th>\n",
       "      <th>org/indicators/0/value[code:FTE]</th>\n",
       "      <th>org/indicators/1/value[code:Volunteers]</th>\n",
       "    </tr>\n",
       "  </thead>\n",
       "  <tbody>\n",
       "    <tr>\n",
       "      <th>0</th>\n",
       "      <td>GB-COH-09506232</td>\n",
       "      <td>14</td>\n",
       "      <td>0</td>\n",
       "    </tr>\n",
       "    <tr>\n",
       "      <th>1</th>\n",
       "      <td>GB-COH-05381958</td>\n",
       "      <td>5</td>\n",
       "      <td>2</td>\n",
       "    </tr>\n",
       "  </tbody>\n",
       "</table>\n",
       "</div>"
      ],
      "text/plain": [
       "            org/id  org/indicators/0/value[code:FTE]  \\\n",
       "0  GB-COH-09506232                                14   \n",
       "1  GB-COH-05381958                                 5   \n",
       "\n",
       "   org/indicators/1/value[code:Volunteers]  \n",
       "0                                        0  \n",
       "1                                        2  "
      ]
     },
     "execution_count": 6,
     "metadata": {},
     "output_type": "execute_result"
    }
   ],
   "source": [
    "dfs = {sheet_name: workbook_file.parse(sheet_name) \n",
    "       for sheet_name in workbook_file.sheet_names}\n",
    "\n",
    "dfs['Sheet1']"
   ]
  },
  {
   "cell_type": "code",
   "execution_count": 3,
   "metadata": {
    "collapsed": false
   },
   "outputs": [
    {
     "data": {
      "text/plain": [
       "'element/subelement/'"
      ]
     },
     "execution_count": 3,
     "metadata": {},
     "output_type": "execute_result"
    }
   ],
   "source": [
    "# group 1 = pre square brackets slug, group 2 = comma separated K:V pairs\n",
    "CONSTANTS_PATTERN = re.compile(r\"([^\\[]*)\\[([^\\]]*)\\]\")\n",
    "\n",
    "WILDCARDS_PATTERN = re.compile(r\"([^\\*]*)\\*([^\\*]*)\")\n",
    "\n",
    "constant1 = \"element/subelement/0/value[FTE:1]\"\n",
    "constant2 = \"element/subelement/0/value[FTE:12, Value:45]\"\n",
    "wildcard1 = \"element/subelement/*/value\"\n",
    "\n",
    "wildcard1.split(\"*\")[0]"
   ]
  },
  {
   "cell_type": "code",
   "execution_count": 4,
   "metadata": {
    "collapsed": true
   },
   "outputs": [],
   "source": [
    "# testing\n",
    "\n",
    "constant_match1 = CONSTANTS_PATTERN.search(constant1)\n",
    "constant_match2 = CONSTANTS_PATTERN.search(constant2)\n",
    "wildcard_match = WILDCARDS_PATTERN.search(wildcard1)\n",
    "\n"
   ]
  },
  {
   "cell_type": "code",
   "execution_count": 9,
   "metadata": {
    "collapsed": false
   },
   "outputs": [
    {
     "name": "stdout",
     "output_type": "stream",
     "text": [
      "element/subelement/0/value :: FTE:1\n",
      "element/subelement/0/value :: ['FTE:12', 'Value:45']\n",
      "element/subelement/ :: /value\n"
     ]
    }
   ],
   "source": [
    "print(constant_match1.group(1) + \" :: \" + constant_match1.group(2))\n",
    "print(constant_match2.group(1) + \" :: \" + str(constant_match2.group(2).split(', ')))\n",
    "print(wildcard_match.group(1) + \" :: \" + wildcard_match.group(2))"
   ]
  }
 ],
 "metadata": {
  "anaconda-cloud": {},
  "kernelspec": {
   "display_name": "Python [Root]",
   "language": "python",
   "name": "Python [Root]"
  },
  "language_info": {
   "codemirror_mode": {
    "name": "ipython",
    "version": 3
   },
   "file_extension": ".py",
   "mimetype": "text/x-python",
   "name": "python",
   "nbconvert_exporter": "python",
   "pygments_lexer": "ipython3",
   "version": "3.5.2"
  }
 },
 "nbformat": 4,
 "nbformat_minor": 0
}
